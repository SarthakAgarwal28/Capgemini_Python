{
 "cells": [
  {
   "cell_type": "code",
   "execution_count": null,
   "id": "8e50d44a",
   "metadata": {},
   "outputs": [
    {
     "name": "stdout",
     "output_type": "stream",
     "text": [
      "Final bill amount: 9876.0\n"
     ]
    }
   ],
   "source": [
    "# Q1: Discount Calculator\n",
    "bill_amt = float(input(\"Enter bill amount:\"))\n",
    "\n",
    "if bill_amt > 1000:\n",
    "    discount = 0.20 * bill_amt\n",
    "elif bill_amt >= 500 and bill_amt < 1000:\n",
    "    discount = 0.10 * bill_amt\n",
    "else:\n",
    "    print(\"No discount\")\n",
    "\n",
    "print(\"Final bill amount:\", bill_amt - discount)"
   ]
  },
  {
   "cell_type": "code",
   "execution_count": 3,
   "id": "3759bd50",
   "metadata": {},
   "outputs": [
    {
     "name": "stdout",
     "output_type": "stream",
     "text": [
      "Grade A\n"
     ]
    }
   ],
   "source": [
    "# Q2: Grade Categorizer\n",
    "score = int(input(\"Enter the student's score: \"))\n",
    "\n",
    "if score >= 90 and score <= 100:\n",
    "    print(\"Grade A\")\n",
    "elif score >= 70 and score <= 89:\n",
    "    print(\"Grade B\")\n",
    "elif score >= 50 and score <= 69:\n",
    "    print(\"Grade C\")\n",
    "elif score < 50 and score >= 0:\n",
    "    print(\"Fail\")\n",
    "else:\n",
    "    print(\"Invalid score.\")"
   ]
  },
  {
   "cell_type": "code",
   "execution_count": 4,
   "id": "9a15d9b1",
   "metadata": {},
   "outputs": [
    {
     "name": "stdout",
     "output_type": "stream",
     "text": [
      "Adult\n"
     ]
    }
   ],
   "source": [
    "# Q3: Age Group Classifier\n",
    "age = int(input(\"Enter your age: \"))\n",
    "if age < 13:\n",
    "    print(\"Child\")\n",
    "elif 13 <= age <= 19:\n",
    "    print(\"Teen\")\n",
    "elif 20 <= age <= 59:\n",
    "    print(\"Adult\")\n",
    "elif age >= 60:\n",
    "    print(\"Senior\")\n",
    "else:\n",
    "    print(\"Invalid age\")"
   ]
  },
  {
   "cell_type": "code",
   "execution_count": 5,
   "id": "09b70222",
   "metadata": {},
   "outputs": [
    {
     "name": "stdout",
     "output_type": "stream",
     "text": [
      "Odd and divisible by 5\n"
     ]
    }
   ],
   "source": [
    "# Q4: Even/Odd and Multiple of 5\n",
    "number = int(input(\"Enter a number: \"))\n",
    "\n",
    "if number % 2 == 0 and number % 5 == 0:\n",
    "    print(\"Even and divisible by 5\")\n",
    "elif number % 2 != 0 and number % 5 == 0:\n",
    "    print(\"Odd and divisible by 5\")\n",
    "elif number % 2 == 0 and number % 5 != 0:\n",
    "    print(\"Even and not divisible by 5\")\n",
    "else:\n",
    "    print(\"Odd and not divisible by 5\")"
   ]
  },
  {
   "cell_type": "code",
   "execution_count": 6,
   "id": "8c8be877",
   "metadata": {},
   "outputs": [
    {
     "name": "stdout",
     "output_type": "stream",
     "text": [
      "Login successful!\n"
     ]
    }
   ],
   "source": [
    "# Q5: Login System (Membership Operator)\n",
    "allowed_usernames = ['john', 'amy', 'sita']\n",
    "username = input(\"Enter your username: \")\n",
    "\n",
    "if username in allowed_usernames:\n",
    "    print(\"Login successful!\")\n",
    "else:\n",
    "    print(\"Access denied. Username not recognized.\")"
   ]
  },
  {
   "cell_type": "code",
   "execution_count": 7,
   "id": "f9165116",
   "metadata": {},
   "outputs": [
    {
     "name": "stdout",
     "output_type": "stream",
     "text": [
      "45 is greater than 34\n"
     ]
    }
   ],
   "source": [
    "# Q6: Number Comparison Game\n",
    "a = int(input(\"Enter the 1st number:\"))\n",
    "b = int(input(\"Enter the 2nd number:\"))\n",
    "\n",
    "if a > b:\n",
    "    print(f\"{a} is greater than {b}\")\n",
    "elif b > a:\n",
    "    print(f\"{b} is greater than {a}\")\n",
    "else:\n",
    "    print(f\"both {a} and {b} are equal\")"
   ]
  },
  {
   "cell_type": "code",
   "execution_count": 8,
   "id": "60e94ce8",
   "metadata": {},
   "outputs": [
    {
     "name": "stdout",
     "output_type": "stream",
     "text": [
      "Eligible for both voting and driving\n"
     ]
    }
   ],
   "source": [
    "# Q7: Eligibility for Voting and Driving\n",
    "age = int(input(\"Enter age:\"))\n",
    "\n",
    "if 18 <= age < 21:\n",
    "    print(\"Eligible for voting\")\n",
    "elif age >= 21:\n",
    "    print(\"Eligible for both voting and driving\")\n",
    "else:\n",
    "    print(\"Invalid age group\")"
   ]
  },
  {
   "cell_type": "code",
   "execution_count": 9,
   "id": "b2ef7d35",
   "metadata": {},
   "outputs": [
    {
     "name": "stdout",
     "output_type": "stream",
     "text": [
      "2004 is a leap year\n"
     ]
    }
   ],
   "source": [
    "# Q8: Leap Year Check\n",
    "year = int(input(\"Enter year:\"))\n",
    "if year % 4 == 0:\n",
    "    if year % 100 == 0:\n",
    "        if year % 400 == 0:\n",
    "            print(f\"{year} is a leap year\")\n",
    "        else:\n",
    "            print(f\"{year} is not a leap year\")\n",
    "    else:\n",
    "        print(f\"{year} is a leap year\")"
   ]
  },
  {
   "cell_type": "code",
   "execution_count": 10,
   "id": "5e294f9d",
   "metadata": {},
   "outputs": [
    {
     "name": "stdout",
     "output_type": "stream",
     "text": [
      "Login successful\n"
     ]
    }
   ],
   "source": [
    "# Q9: Login with Role\n",
    "username = input(\"Enter username: \").lower()\n",
    "role = input(\"Enter role: \").lower()\n",
    "\n",
    "if (username in \"sam bob martin john paul\") and (role in \"admin manager\"):\n",
    "    print(\"Login successful\")\n",
    "else:\n",
    "    print(\"Login denied\")"
   ]
  },
  {
   "cell_type": "code",
   "execution_count": 11,
   "id": "afab5898",
   "metadata": {},
   "outputs": [
    {
     "name": "stdout",
     "output_type": "stream",
     "text": [
      "Multiplication: 60\n"
     ]
    }
   ],
   "source": [
    "# Q10: Arithmetic Operations Based on User Choice\n",
    "option = input(\"Enter the operation: \")\n",
    "a = int(input(\"Enter the number a: \"))\n",
    "b = int(input(\"Enter the number b: \"))\n",
    "\n",
    "match option:\n",
    "    case '+':\n",
    "        print(\"Addition:\", a+b)\n",
    "    case '-':\n",
    "        print(\"Subtraction:\", abs(a-b))\n",
    "    case '*':\n",
    "        print(\"Multiplication:\", a*b)\n",
    "    case '/':\n",
    "        print(\"Division:\", a/b)\n",
    "    case _:\n",
    "        print(\"Invalid operator type\")"
   ]
  },
  {
   "cell_type": "code",
   "execution_count": 12,
   "id": "d30a51cc",
   "metadata": {},
   "outputs": [
    {
     "name": "stdout",
     "output_type": "stream",
     "text": [
      "Heat Alert\n"
     ]
    }
   ],
   "source": [
    "# Q11: Weather Alert System\n",
    "temp = float(input(\"Enter temperature:\"))\n",
    "if temp > 40:\n",
    "    print(\"Heat Alert\")\n",
    "elif 30 < temp <= 40:\n",
    "    print(\"Warm\")\n",
    "elif temp <= 30:\n",
    "    print(\"Normal\")\n",
    "else:\n",
    "    print(\"Invalid temparature input\")"
   ]
  },
  {
   "cell_type": "code",
   "execution_count": null,
   "id": "81418ab7",
   "metadata": {},
   "outputs": [
    {
     "name": "stdout",
     "output_type": "stream",
     "text": [
      "Strong password\n"
     ]
    }
   ],
   "source": [
    "# Q12: Password Strength Checker\n",
    "password = input(\"Enter password:\")\n",
    "length = len(password)\n",
    "\n",
    "if length >= 8:\n",
    "    if '@' in password:\n",
    "        print(\"Strong password\")\n",
    "    else:\n",
    "        print(\"Weak password\")\n",
    "else:\n",
    "    print(\"Invalid password\")"
   ]
  },
  {
   "cell_type": "code",
   "execution_count": null,
   "id": "3355e9fb",
   "metadata": {},
   "outputs": [
    {
     "name": "stdout",
     "output_type": "stream",
     "text": [
      "Withdrawl possible\n"
     ]
    }
   ],
   "source": [
    "# Q13: ATM Withdrawl\n",
    "balance = int(input(\"Enter balance:\"))\n",
    "amt = int(input(\"Enter amount:\"))\n",
    "\n",
    "if amt <= balance and amt % 100 == 0:\n",
    "    print(\"Withdrawl possible\")\n",
    "else:\n",
    "    print(\"Withdrawl not possible\")"
   ]
  },
  {
   "cell_type": "code",
   "execution_count": null,
   "id": "f4e83625",
   "metadata": {},
   "outputs": [
    {
     "name": "stdout",
     "output_type": "stream",
     "text": [
      "Divisible by both 3 and 5\n"
     ]
    }
   ],
   "source": [
    "# Q14: Divisibility Check\n",
    "num = int(input(\"Enter a number:\"))\n",
    "\n",
    "if num % 3 == 0:\n",
    "    if num % 5 == 0:\n",
    "        print(\"Divisible by both 3 and 5\")\n",
    "    else:\n",
    "        print(\"Divisible by only 3\")\n",
    "elif num % 5 == 0:\n",
    "    print(\"Divisible by only 5\")\n",
    "else:\n",
    "    print(\"Not divisible by 3 or 5\")"
   ]
  },
  {
   "cell_type": "code",
   "execution_count": 16,
   "id": "cfb912b3",
   "metadata": {},
   "outputs": [
    {
     "name": "stdout",
     "output_type": "stream",
     "text": [
      "Product is present in the inventory\n"
     ]
    }
   ],
   "source": [
    "# Q15: Product Availability\n",
    "product = input(\"Enter product name:\")\n",
    "\n",
    "if product in \"pen pencil eraser\":\n",
    "    print(\"Product is present in the inventory\")\n",
    "else:\n",
    "    print(\"Not present\")"
   ]
  },
  {
   "cell_type": "code",
   "execution_count": 18,
   "id": "369d9e83",
   "metadata": {},
   "outputs": [
    {
     "name": "stdout",
     "output_type": "stream",
     "text": [
      "Valid Triangle\n"
     ]
    }
   ],
   "source": [
    "# Q16: Triangle Validity\n",
    "a = float(input(\"Enter length of side a: \"))\n",
    "b = float(input(\"Enter length of side b: \"))\n",
    "c = float(input(\"Enter length of side c: \"))\n",
    "\n",
    "if (a + b > c) and (a + c > b) and (b + c > a):\n",
    "    print(\"Valid Triangle\")\n",
    "else:\n",
    "    print(\"Not Valid Triangle\")"
   ]
  },
  {
   "cell_type": "code",
   "execution_count": 19,
   "id": "d2da315f",
   "metadata": {},
   "outputs": [
    {
     "name": "stdout",
     "output_type": "stream",
     "text": [
      "67 is the largest number\n"
     ]
    }
   ],
   "source": [
    "# Q17: Max of Three Numbers\n",
    "a = int(input(\"Enter the first number:\"))\n",
    "b = int(input(\"Enter the second number:\"))\n",
    "c = int(input(\"Enter the third number:\"))\n",
    "if a > b and a > c:\n",
    "    print(f\"{a} is the largest number\")\n",
    "elif b > a and b > c:\n",
    "    print(f\"{b} is the largest number\")\n",
    "else:\n",
    "    print(f\"{c} is the largest number\")"
   ]
  },
  {
   "cell_type": "code",
   "execution_count": 20,
   "id": "0e6a4c77",
   "metadata": {},
   "outputs": [
    {
     "name": "stdout",
     "output_type": "stream",
     "text": [
      "Valid marks\n"
     ]
    }
   ],
   "source": [
    "# Q18: Marks Validity Check\n",
    "\n",
    "mark = int(input(\"Enter the marks:\"))\n",
    "\n",
    "if 0 <= mark <= 100:\n",
    "    print(\"Valid marks\")\n",
    "else:\n",
    "    print(\"Invalid\")"
   ]
  },
  {
   "cell_type": "code",
   "execution_count": null,
   "id": "f1f79f87",
   "metadata": {},
   "outputs": [
    {
     "name": "stdout",
     "output_type": "stream",
     "text": [
      "Login successfull\n"
     ]
    }
   ],
   "source": [
    "# Q19: Login Attempt System\n",
    "CORRECT_USERNAME = \"kiit\"\n",
    "CORRECT_PASSWORD = \"pass@123\"\n",
    "username = input(\"Enter username:\")\n",
    "password = input(\"Enter password:\")\n",
    "if username == CORRECT_USERNAME and password == CORRECT_PASSWORD:\n",
    "    print(\"Login successfull\")\n",
    "else:\n",
    "    print(\"Login denied\")"
   ]
  },
  {
   "cell_type": "code",
   "execution_count": 24,
   "id": "316fa015",
   "metadata": {},
   "outputs": [
    {
     "name": "stdout",
     "output_type": "stream",
     "text": [
      "Total electricity bill: 1700\n"
     ]
    }
   ],
   "source": [
    "# Q20: ELectricity Bill Slab\n",
    "units = int(input(\"Enter units of electricity consumed:\"))\n",
    "bill = 0.0;\n",
    "\n",
    "if units <= 100:\n",
    "    bill = units * 5\n",
    "elif units <= 200:\n",
    "    bill = (100 * 5) + (units - 100) * 7\n",
    "else:\n",
    "    bill = (100 * 5) + (100 * 7) + (units - 200) * 10\n",
    "\n",
    "print(\"Total electricity bill:\", bill)"
   ]
  }
 ],
 "metadata": {
  "kernelspec": {
   "display_name": "Python 3",
   "language": "python",
   "name": "python3"
  },
  "language_info": {
   "codemirror_mode": {
    "name": "ipython",
    "version": 3
   },
   "file_extension": ".py",
   "mimetype": "text/x-python",
   "name": "python",
   "nbconvert_exporter": "python",
   "pygments_lexer": "ipython3",
   "version": "3.12.3"
  }
 },
 "nbformat": 4,
 "nbformat_minor": 5
}
